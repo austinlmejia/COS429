{
 "cells": [
  {
   "cell_type": "code",
   "execution_count": 1,
   "metadata": {},
   "outputs": [
    {
     "ename": "ModuleNotFoundError",
     "evalue": "No module named 'cv2'",
     "output_type": "error",
     "traceback": [
      "\u001b[0;31m---------------------------------------------------------------------------\u001b[0m",
      "\u001b[0;31mModuleNotFoundError\u001b[0m                       Traceback (most recent call last)",
      "\u001b[0;32m<ipython-input-1-879c6fa13510>\u001b[0m in \u001b[0;36m<module>\u001b[0;34m\u001b[0m\n\u001b[1;32m      1\u001b[0m \u001b[0;32mfrom\u001b[0m \u001b[0mmatplotlib\u001b[0m \u001b[0;32mimport\u001b[0m \u001b[0mpyplot\u001b[0m \u001b[0;32mas\u001b[0m \u001b[0mplt\u001b[0m\u001b[0;34m\u001b[0m\u001b[0;34m\u001b[0m\u001b[0m\n\u001b[1;32m      2\u001b[0m \u001b[0;32mfrom\u001b[0m \u001b[0mIPython\u001b[0m\u001b[0;34m.\u001b[0m\u001b[0mdisplay\u001b[0m \u001b[0;32mimport\u001b[0m \u001b[0mdisplay\u001b[0m\u001b[0;34m\u001b[0m\u001b[0;34m\u001b[0m\u001b[0m\n\u001b[0;32m----> 3\u001b[0;31m \u001b[0;32mimport\u001b[0m \u001b[0mcv2\u001b[0m\u001b[0;34m\u001b[0m\u001b[0;34m\u001b[0m\u001b[0m\n\u001b[0m\u001b[1;32m      4\u001b[0m \u001b[0;32mimport\u001b[0m \u001b[0mnumpy\u001b[0m \u001b[0;32mas\u001b[0m \u001b[0mnp\u001b[0m\u001b[0;34m\u001b[0m\u001b[0;34m\u001b[0m\u001b[0m\n",
      "\u001b[0;31mModuleNotFoundError\u001b[0m: No module named 'cv2'"
     ]
    }
   ],
   "source": [
    "from matplotlib import pyplot as plt\n",
    "from IPython.display import display\n",
    "import cv2\n",
    "import numpy as np"
   ]
  },
  {
   "cell_type": "code",
   "execution_count": 17,
   "metadata": {},
   "outputs": [
    {
     "name": "stdout",
     "output_type": "stream",
     "text": [
      "number found!\n",
      "number end\n",
      "1\n",
      "83\n",
      "81\n",
      "272\n",
      "399\n",
      "number found!\n",
      "number end\n",
      "2\n",
      "375\n",
      "213\n",
      "590\n",
      "225\n",
      "number found!\n",
      "number end\n",
      "3\n",
      "707\n",
      "65\n",
      "958\n",
      "369\n"
     ]
    },
    {
     "data": {
      "image/png": "[encoded data removed]",
      "text/plain": [
       "<Figure size 432x288 with 1 Axes>"
      ]
     },
     "metadata": {
      "needs_background": "light"
     },
     "output_type": "display_data"
    }
   ],
   "source": [
    "max_lowThreshold = 100\n",
    "window_name = 'Edge Map'\n",
    "title_trackbar = 'Min Threshold:'\n",
    "ratio = 3\n",
    "kernel_size = 3\n",
    "\n",
    "val = 100\n",
    "\n",
    "img = cv2.imread('Eq_minus2.png')\n",
    "gray = cv2.cvtColor(img, cv2.COLOR_BGR2GRAY)\n",
    "\n",
    "low_threshold = val\n",
    "detected_edges = cv2.Canny(gray, low_threshold, low_threshold*ratio, kernel_size)\n",
    "mask = detected_edges != 0\n",
    "dst = img * (mask[:,:,None].astype(img.dtype))\n",
    "\n",
    "is_a_number = 0\n",
    "is_in_middle = 0\n",
    "\n",
    "top_r = 10000\n",
    "bot_r = 0\n",
    "prev_c = 0\n",
    "\n",
    "height = img.shape[0]\n",
    "width = img.shape[1]\n",
    "\n",
    "padding_r = 0\n",
    "padding_c = 0\n",
    "sign = 'plus'\n",
    "\n",
    "symbol = 0\n",
    "\n",
    "np.savetxt('text.txt',detected_edges,fmt='%.2f')\n",
    "\n",
    "\n",
    "for column in range(0, width):\n",
    "    is_in_middle = 0\n",
    "    for row in range(0, height):\n",
    "        if (detected_edges[row, column] > 30):\n",
    "            is_in_middle = 1\n",
    "            if row > bot_r:\n",
    "                bot_r = row\n",
    "            if row < top_r:\n",
    "                top_r = row\n",
    "            \n",
    "\n",
    "    if (is_in_middle == 1 and is_a_number == 0):\n",
    "        print(\"number found!\")\n",
    "        is_a_number = 1       \n",
    "        prev_c = column\n",
    "        \n",
    "    if is_in_middle == 0 and is_a_number == 1:\n",
    "        print(\"number end\")\n",
    "        if (column - prev_c > bot_r - top_r):\n",
    "            padding_r = (int) (((column - prev_c) - (bot_r - top_r)) / 2)\n",
    "        else:\n",
    "            padding_c = (int) (((bot_r - top_r) - (column - prev_c)) / 2)\n",
    "        \n",
    "        padding_c += 20\n",
    "        padding_r += 20\n",
    "        symbol += 1\n",
    "        img = cv2.rectangle(img,(prev_c - padding_c, top_r - padding_r),(column + padding_c, bot_r + padding_r),(255,0,0),5)\n",
    "        is_a_number = 0\n",
    "    \n",
    "        print(symbol)\n",
    "        print(prev_c)\n",
    "        print(top_r)\n",
    "        print(column)\n",
    "        print(bot_r)\n",
    "        \n",
    "        # save boundaries for +/- Classification \n",
    "        if(symbol == 2):\n",
    "            leftC = prev_c\n",
    "            rightC = column\n",
    "            bottomR = bot_r\n",
    "            topR = top_r\n",
    "            \n",
    "            # +/- DETECTION USING CANNY EDGES \n",
    "            colDim = rightC - leftC\n",
    "            rowDim = topR - bottomR\n",
    "\n",
    "            ratio = abs(colDim) /abs(rowDim) \n",
    "            if (ratio > 2.5):\n",
    "                sign = 'minus'\n",
    "        \n",
    "        top_r, bot_r, padding_c, padding_r = 10000, 0, 0, 0\n",
    "        \n",
    "            \n",
    "plt.imshow(img)\n",
    "plt.show()"
   ]
  },
  {
   "cell_type": "code",
   "execution_count": 18,
   "metadata": {},
   "outputs": [
    {
     "name": "stdout",
     "output_type": "stream",
     "text": [
      "minus\n"
     ]
    }
   ],
   "source": [
    "# +/- DETECTION USING CANNY EDGES \n",
    "colDim = rightC - leftC\n",
    "rowDim = topR - bottomR\n",
    "\n",
    "ratio = abs(colDim) /abs(rowDim) \n",
    "label = 'plus'\n",
    "if (ratio > 2.5):\n",
    "    label = 'minus'\n",
    "print(label)"
   ]
  },
  {
   "cell_type": "code",
   "execution_count": null,
   "metadata": {},
   "outputs": [],
   "source": []
  },
  {
   "cell_type": "code",
   "execution_count": null,
   "metadata": {},
   "outputs": [],
   "source": []
  }
 ],
 "metadata": {
  "kernelspec": {
   "display_name": "Python 3",
   "language": "python",
   "name": "python3"
  },
  "language_info": {
   "codemirror_mode": {
    "name": "ipython",
    "version": 3
   },
   "file_extension": ".py",
   "mimetype": "text/x-python",
   "name": "python",
   "nbconvert_exporter": "python",
   "pygments_lexer": "ipython3",
   "version": "3.7.1"
  }
 },
 "nbformat": 4,
 "nbformat_minor": 2
}
