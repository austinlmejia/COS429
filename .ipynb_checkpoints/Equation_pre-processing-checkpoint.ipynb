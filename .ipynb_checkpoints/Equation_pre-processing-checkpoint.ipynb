{
 "cells": [
  {
   "cell_type": "code",
   "execution_count": 1,
   "metadata": {},
   "outputs": [],
   "source": [
    "from matplotlib import pyplot as plt\n",
    "from IPython.display import display\n",
    "import cv2\n",
    "import numpy as np"
   ]
  },
  {
   "cell_type": "code",
   "execution_count": 6,
   "metadata": {},
   "outputs": [
    {
     "name": "stdout",
     "output_type": "stream",
     "text": [
      "number found!\n",
      "number end\n",
      "1\n",
      "105\n",
      "89\n",
      "272\n",
      "343\n",
      "number found!\n",
      "number end\n",
      "2\n",
      "447\n",
      "145\n",
      "562\n",
      "251\n",
      "number found!\n",
      "number end\n",
      "3\n",
      "693\n",
      "71\n",
      "824\n",
      "325\n"
     ]
    },
    {
     "data": {
      "image/png": "[encoded data removed]",
      "text/plain": [
       "<Figure size 432x288 with 1 Axes>"
      ]
     },
     "metadata": {
      "needs_background": "light"
     },
     "output_type": "display_data"
    }
   ],
   "source": [
    "max_lowThreshold = 100\n",
    "window_name = 'Edge Map'\n",
    "title_trackbar = 'Min Threshold:'\n",
    "ratio = 3\n",
    "kernel_size = 3\n",
    "\n",
    "val = 100\n",
    "\n",
    "img = cv2.imread('Screen Shot 2020-01-10 at 4.36.45 PM.png')\n",
    "gray = cv2.cvtColor(img, cv2.COLOR_BGR2GRAY)\n",
    "\n",
    "low_threshold = val\n",
    "detected_edges = cv2.Canny(gray, low_threshold, low_threshold*ratio, kernel_size)\n",
    "mask = detected_edges != 0\n",
    "dst = img * (mask[:,:,None].astype(img.dtype))\n",
    "\n",
    "is_a_number = 0\n",
    "is_in_middle = 0\n",
    "\n",
    "top_r = 10000\n",
    "bot_r = 0\n",
    "prev_c = 0\n",
    "\n",
    "height = img.shape[0]\n",
    "width = img.shape[1]\n",
    "\n",
    "padding_r = 0\n",
    "padding_c = 0\n",
    "sign = 'plus'\n",
    "\n",
    "symbol = 0\n",
    "components = []\n",
    "\n",
    "np.savetxt('text.txt',detected_edges,fmt='%.2f')\n",
    "\n",
    "\n",
    "for column in range(0, width):\n",
    "    is_in_middle = 0\n",
    "    for row in range(0, height):\n",
    "        if (detected_edges[row, column] > 30):\n",
    "            is_in_middle = 1\n",
    "            if row > bot_r:\n",
    "                bot_r = row\n",
    "            if row < top_r:\n",
    "                top_r = row\n",
    "            \n",
    "\n",
    "    if (is_in_middle == 1 and is_a_number == 0):\n",
    "        print(\"number found!\")\n",
    "        is_a_number = 1       \n",
    "        prev_c = column\n",
    "        \n",
    "    if is_in_middle == 0 and is_a_number == 1:\n",
    "        print(\"number end\")\n",
    "        if (column - prev_c > bot_r - top_r):\n",
    "            padding_r = (int) (((column - prev_c) - (bot_r - top_r)) / 2)\n",
    "        else:\n",
    "            padding_c = (int) (((bot_r - top_r) - (column - prev_c)) / 2)\n",
    "        \n",
    "        padding_c += 20\n",
    "        padding_r += 20\n",
    "        symbol += 1\n",
    "        img = cv2.rectangle(img,(prev_c - padding_c, top_r - padding_r),(column + padding_c, bot_r + padding_r),(255,0,0),5)\n",
    "        is_a_number = 0\n",
    "    \n",
    "        print(symbol)\n",
    "        print(prev_c)\n",
    "        print(top_r)\n",
    "        print(column)\n",
    "        print(bot_r)\n",
    "        components.append(img[top_r - padding_r:bot_r + padding_r, prev_c - padding_c:column + padding_c])\n",
    "        \n",
    "        # save boundaries for +/- Classification \n",
    "        if(symbol == 2):\n",
    "            leftC = prev_c\n",
    "            rightC = column\n",
    "            bottomR = bot_r\n",
    "            topR = top_r\n",
    "            \n",
    "            # +/- DETECTION USING CANNY EDGES \n",
    "            colDim = rightC - leftC\n",
    "            rowDim = topR - bottomR\n",
    "\n",
    "            ratio = abs(colDim) /abs(rowDim) \n",
    "            if (ratio > 2.5):\n",
    "                sign = 'minus'\n",
    "        \n",
    "        top_r, bot_r, padding_c, padding_r = 10000, 0, 0, 0\n",
    "        \n",
    "components[1] = sign\n",
    "plt.imshow(img)\n",
    "plt.show()"
   ]
  },
  {
   "cell_type": "code",
   "execution_count": 12,
   "metadata": {},
   "outputs": [
    {
     "name": "stdout",
     "output_type": "stream",
     "text": [
      "plus\n"
     ]
    },
    {
     "data": {
      "image/png": "[encoded data removed]",
      "text/plain": [
       "<Figure size 432x288 with 1 Axes>"
      ]
     },
     "metadata": {
      "needs_background": "light"
     },
     "output_type": "display_data"
    }
   ],
   "source": [
    "plt.imshow(components[0])\n",
    "print(components[1])\n",
    "plt.show()"
   ]
  },
  {
   "cell_type": "code",
   "execution_count": null,
   "metadata": {},
   "outputs": [],
   "source": []
  }
 ],
 "metadata": {
  "kernelspec": {
   "display_name": "Python 3",
   "language": "python",
   "name": "python3"
  },
  "language_info": {
   "codemirror_mode": {
    "name": "ipython",
    "version": 3
   },
   "file_extension": ".py",
   "mimetype": "text/x-python",
   "name": "python",
   "nbconvert_exporter": "python",
   "pygments_lexer": "ipython3",
   "version": "3.7.4"
  }
 },
 "nbformat": 4,
 "nbformat_minor": 2
}
