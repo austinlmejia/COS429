{
 "cells": [
  {
   "cell_type": "code",
   "execution_count": 52,
   "metadata": {},
   "outputs": [
    {
     "name": "stdout",
     "output_type": "stream",
     "text": [
      "number found!\n",
      "53\n",
      "320\n",
      "number end\n",
      "number found!\n",
      "493\n",
      "600\n",
      "number end\n",
      "number found!\n",
      "795\n",
      "812\n",
      "number end\n"
     ]
    },
    {
     "data": {
      "image/png": "[encoded data removed]",
      "text/plain": [
       "<Figure size 432x288 with 1 Axes>"
      ]
     },
     "metadata": {
      "needs_background": "light"
     },
     "output_type": "display_data"
    }
   ],
   "source": [
    "from matplotlib import pyplot as plt\n",
    "from IPython.display import display\n",
    "import cv2\n",
    "import numpy as np\n",
    "\n",
    "max_lowThreshold = 100\n",
    "window_name = 'Edge Map'\n",
    "title_trackbar = 'Min Threshold:'\n",
    "ratio = 3\n",
    "kernel_size = 3\n",
    "\n",
    "val = 100\n",
    "\n",
    "img = cv2.imread('Screen Shot 2020-01-10 at 4.38.35 PM.png')\n",
    "gray = cv2.cvtColor(img, cv2.COLOR_BGR2GRAY)\n",
    "\n",
    "low_threshold = val\n",
    "detected_edges = cv2.Canny(gray, low_threshold, low_threshold*ratio, kernel_size)\n",
    "mask = detected_edges != 0\n",
    "dst = img * (mask[:,:,None].astype(img.dtype))\n",
    "\n",
    "is_a_number = 0\n",
    "is_in_middle = 0\n",
    "\n",
    "column_num = 0\n",
    "\n",
    "\n",
    "np.savetxt('text.txt',detected_edges,fmt='%.2f')\n",
    "\n",
    "for columns in detected_edges.T:\n",
    "    is_in_middle = 0\n",
    "    for pixel in columns:\n",
    "        if pixel > 30:\n",
    "            is_in_middle = 1\n",
    "            \n",
    "    if (is_in_middle == 1 and is_a_number == 0):\n",
    "        print(\"number found!\")\n",
    "        print(column_num)\n",
    "        img = cv2.line(img,(column_num,0),(column_num,350),(255,0,0),5)\n",
    "        is_a_number = 1\n",
    "    if is_in_middle == 0 and is_a_number == 1:\n",
    "        print(column_num)\n",
    "        print(\"number end\")\n",
    "        img = cv2.line(img,(column_num,0),(column_num,350),(255,0,0),5)\n",
    "        is_a_number = 0\n",
    "    column_num = column_num + 1\n",
    "            \n",
    "plt.imshow(img)\n",
    "plt.show()"
   ]
  },
  {
   "cell_type": "code",
   "execution_count": null,
   "metadata": {},
   "outputs": [],
   "source": [
    "plt.subplot(211),plt.imshow(img)\n",
    "plt.title('Original Image'), plt.xticks([]), plt.yticks([])\n",
    "plt.subplot(212),plt.imshow(edges)\n",
    "plt.title('Edge Image'), plt.xticks([]), plt.yticks([])"
   ]
  }
 ],
 "metadata": {
  "kernelspec": {
   "display_name": "Python 3",
   "language": "python",
   "name": "python3"
  },
  "language_info": {
   "codemirror_mode": {
    "name": "ipython",
    "version": 3
   },
   "file_extension": ".py",
   "mimetype": "text/x-python",
   "name": "python",
   "nbconvert_exporter": "python",
   "pygments_lexer": "ipython3",
   "version": "3.7.4"
  }
 },
 "nbformat": 4,
 "nbformat_minor": 2
}
