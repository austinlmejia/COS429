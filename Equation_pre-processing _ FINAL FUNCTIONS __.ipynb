{
 "cells": [
  {
   "cell_type": "code",
   "execution_count": 1,
   "metadata": {},
   "outputs": [],
   "source": [
    "from matplotlib import pyplot as plt\n",
    "from IPython.display import display\n",
    "import cv2\n",
    "import numpy as np"
   ]
  },
  {
   "cell_type": "code",
   "execution_count": 5,
   "metadata": {},
   "outputs": [],
   "source": [
    "from tensorflow.keras.layers import InputSpec\n",
    "from keras import activations, initializers, regularizers, constraints"
   ]
  },
  {
   "cell_type": "code",
   "execution_count": 6,
   "metadata": {},
   "outputs": [],
   "source": [
    "import cv2\n",
    "import matplotlib.pyplot as plt\n",
    "import numpy as np\n",
    "import tensorflow as tf\n",
    "from keras.models import load_model\n",
    "#from keras.layers import Activations"
   ]
  },
  {
   "cell_type": "code",
   "execution_count": 178,
   "metadata": {},
   "outputs": [],
   "source": [
    "img = cv2.imread('2-2_mediumthin.png')"
   ]
  },
  {
   "cell_type": "code",
   "execution_count": 179,
   "metadata": {},
   "outputs": [],
   "source": [
    "def DataExtractionMathClass(img):\n",
    "    max_lowThreshold = 100\n",
    "    window_name = 'Edge Map'\n",
    "    title_trackbar = 'Min Threshold:'\n",
    "    ratio = 3\n",
    "    kernel_size = 3\n",
    "    val = 100\n",
    "\n",
    "    gray = cv2.cvtColor(img, cv2.COLOR_BGR2GRAY)\n",
    "\n",
    "    low_threshold = val\n",
    "    detected_edges = cv2.Canny(gray, low_threshold, low_threshold*ratio, kernel_size)\n",
    "    mask = detected_edges != 0\n",
    "    dst = img * (mask[:,:,None].astype(img.dtype))\n",
    "\n",
    "    is_a_number = 0\n",
    "    is_in_middle = 0\n",
    "\n",
    "    top_r = 10000\n",
    "    bot_r = 0\n",
    "    prev_c = 0\n",
    "\n",
    "    height = img.shape[0]\n",
    "    width = img.shape[1]\n",
    "\n",
    "    padding_r = 0\n",
    "    padding_c = 0\n",
    "    sign = 'plus'\n",
    "\n",
    "    symbol = 0\n",
    "    components = []\n",
    "\n",
    "    np.savetxt('text.txt',detected_edges,fmt='%.2f')\n",
    "\n",
    "\n",
    "    for column in range(0, width):\n",
    "        is_in_middle = 0\n",
    "        for row in range(0, height):\n",
    "            if (detected_edges[row, column] > 30):\n",
    "                is_in_middle = 1\n",
    "                if row > bot_r:\n",
    "                    bot_r = row\n",
    "                if row < top_r:\n",
    "                    top_r = row\n",
    "\n",
    "\n",
    "        if (is_in_middle == 1 and is_a_number == 0):\n",
    "            #print(\"number found!\")\n",
    "            is_a_number = 1       \n",
    "            prev_c = column\n",
    "\n",
    "        if is_in_middle == 0 and is_a_number == 1:\n",
    "            #print(\"number end\")\n",
    "            if (column - prev_c > bot_r - top_r):\n",
    "                padding_r = (int) (((column - prev_c) - (bot_r - top_r)) / 2)\n",
    "            else:\n",
    "                padding_c = (int) (((bot_r - top_r) - (column - prev_c)) / 2)\n",
    "\n",
    "            padding_c += 20\n",
    "            padding_r += 20\n",
    "            symbol += 1\n",
    "            #img = cv2.rectangle(img,(prev_c - padding_c, top_r - padding_r),(column + padding_c, bot_r + padding_r),(255,0,0),5)\n",
    "            is_a_number = 0\n",
    "\n",
    "            components.append(img[top_r - padding_r:bot_r + padding_r, prev_c - padding_c:column + padding_c])\n",
    "\n",
    "            # save boundaries for +/- Classification \n",
    "            if(symbol == 2):\n",
    "                leftC = prev_c\n",
    "                rightC = column\n",
    "                bottomR = bot_r\n",
    "                topR = top_r\n",
    "\n",
    "                # +/- DETECTION USING CANNY EDGES \n",
    "                colDim = rightC - leftC\n",
    "                rowDim = topR - bottomR\n",
    "\n",
    "                ratio = abs(colDim) /abs(rowDim) \n",
    "                if (ratio > 2.5):\n",
    "                    sign = 'minus'\n",
    "\n",
    "            top_r, bot_r, padding_c, padding_r = 10000, 0, 0, 0\n",
    "\n",
    "    components[1] = sign\n",
    "    return components[0],components[1],components[2]\n"
   ]
  },
  {
   "cell_type": "code",
   "execution_count": 180,
   "metadata": {},
   "outputs": [],
   "source": [
    "def predictNumber(img):\n",
    "    model = load_model(\"Model_3conv.h5\", custom_objects = {'softmax_v2': tf.nn.softmax})\n",
    "\n",
    "    # format image for square sizing\n",
    "    imgGray = cv2.cvtColor(img, cv2.COLOR_BGR2GRAY)\n",
    "    squareGray = imgGray #imgGray[1000:3500, 0:2500] #square size depends on img but worked for all sample images\n",
    "    resizedSquare = cv2.resize(squareGray, (28, 28), interpolation=cv2.INTER_AREA)\n",
    "\n",
    "    #format for keras\n",
    "    squareAsArray = resizedSquare.reshape(28, 28, 1)\n",
    "    squareAsArray = squareAsArray.astype('float32')\n",
    "\n",
    "    #make black number with white background\n",
    "    squareAsArray[squareAsArray <= 180.] = 255.\n",
    "    squareAsArray[squareAsArray < 255.] = 0.\n",
    "\n",
    "    #format for keras (again)\n",
    "    squareAsArray /= 255\n",
    "    predictionImage = squareAsArray.reshape(1, 28, 28, 1)\n",
    "    \n",
    "    #visualize image if needed:\n",
    "    #plt.imshow(predictionImage.reshape(28,28), cmap = \"Greys\")\n",
    "\n",
    "    pred = model.predict(predictionImage)\n",
    "    \n",
    "    return pred.argmax()\n"
   ]
  },
  {
   "cell_type": "code",
   "execution_count": 181,
   "metadata": {},
   "outputs": [],
   "source": [
    "def solveEquation(first,sign,second):\n",
    "    final = 0\n",
    "    first_No = predictNumber(first)\n",
    "    second_No = predictNumber(second)\n",
    "    \n",
    "    if(sign=='plus'):\n",
    "        final = first_No+second_No\n",
    "    if(sign=='minus'):\n",
    "        final = first_No-second_No\n",
    "    return first_No,second_No,final"
   ]
  },
  {
   "cell_type": "code",
   "execution_count": 182,
   "metadata": {},
   "outputs": [],
   "source": [
    "first,sign,second = DataExtractionMathClass(img)"
   ]
  },
  {
   "cell_type": "code",
   "execution_count": 183,
   "metadata": {},
   "outputs": [],
   "source": [
    "first_No,second_No,answer = solveEquation(first,sign,second)"
   ]
  },
  {
   "cell_type": "code",
   "execution_count": 184,
   "metadata": {},
   "outputs": [
    {
     "name": "stdout",
     "output_type": "stream",
     "text": [
      "2 minus 2 = 0\n"
     ]
    }
   ],
   "source": [
    "print(first_No,sign,second_No,\"=\",answer)"
   ]
  },
  {
   "cell_type": "code",
   "execution_count": 185,
   "metadata": {},
   "outputs": [
    {
     "name": "stdout",
     "output_type": "stream",
     "text": [
      "2\n"
     ]
    },
    {
     "data": {
      "image/png": "[encoded data removed]",
      "text/plain": [
       "<Figure size 432x288 with 1 Axes>"
      ]
     },
     "metadata": {
      "needs_background": "light"
     },
     "output_type": "display_data"
    }
   ],
   "source": [
    "plt.imshow(second)\n",
    "print(predictNumber(second))\n",
    "plt.show()"
   ]
  },
  {
   "cell_type": "code",
   "execution_count": 174,
   "metadata": {},
   "outputs": [
    {
     "data": {
      "text/plain": [
       "3"
      ]
     },
     "execution_count": 174,
     "metadata": {},
     "output_type": "execute_result"
    },
    {
     "data": {
      "image/png": "[encoded data removed]",
      "text/plain": [
       "<Figure size 432x288 with 1 Axes>"
      ]
     },
     "metadata": {
      "needs_background": "light"
     },
     "output_type": "display_data"
    }
   ],
   "source": [
    "model = load_model(\"Model_3conv.h5\", custom_objects = {'softmax_v2': tf.nn.softmax})\n",
    "%matplotlib inline\n",
    "\n",
    "img = second\n",
    "# format image for square sizing\n",
    "imgGray = cv2.cvtColor(img, cv2.COLOR_BGR2GRAY)\n",
    "squareGray = imgGray #imgGray[1000:3500, 0:2500] #square size depends on img but worked for all sample images\n",
    "resizedSquare = cv2.resize(squareGray, (28, 28), interpolation=cv2.INTER_AREA)\n",
    "plt.imshow(resizedSquare, cmap = \"Greys\")\n",
    "\n",
    "#format for keras\n",
    "squareAsArray = resizedSquare.reshape(28, 28, 1)\n",
    "squareAsArray = squareAsArray.astype('float32')\n",
    "\n",
    "#make black number with white background\n",
    "squareAsArray[squareAsArray >= 180.] = 0.\n",
    "squareAsArray[squareAsArray > 0.] = 255.\n",
    "#plt.imshow(squareAsArray.reshape(28,28), cmap = \"Greys\")\n",
    "\n",
    "#format for keras (again)\n",
    "squareAsArray /= 255\n",
    "predictionImage = squareAsArray.reshape(1, 28, 28, 1)\n",
    "\n",
    "#visualize image if needed:\n",
    "#plt.imshow(predictionImage.reshape(28,28), cmap = \"Greys\")\n",
    "\n",
    "pred = model.predict(predictionImage)\n",
    "\n",
    "pred.argmax()"
   ]
  },
  {
   "cell_type": "code",
   "execution_count": 89,
   "metadata": {
    "scrolled": true
   },
   "outputs": [
    {
     "name": "stdout",
     "output_type": "stream",
     "text": [
      "0+1_thick.png\r\n",
      "0-0_medium.png\r\n",
      "0-3_thin.png\r\n",
      "1+3_thin.png\r\n",
      "1+8_medium.png\r\n",
      "1+9_medium.png\r\n",
      "1-7_thin.png\r\n",
      "2+7_thick.png\r\n",
      "2-1_medium.png\r\n",
      "2-2_mediumthin.png\r\n",
      "3+2_thin.png\r\n",
      "3-1_medium.png\r\n",
      "4+2_medium.png\r\n",
      "4+2_thin.png\r\n",
      "4+2_thin2.png\r\n",
      "4+6_thin.png\r\n",
      "4-2_medium.png\r\n",
      "4-6_thick.png\r\n",
      "5-0_thin.png\r\n",
      "5-3_medium.png\r\n",
      "7-3_medium.png\r\n",
      "7-4medium.png\r\n",
      "8+2_thickmessy.png\r\n",
      "8-2_thin.png\r\n",
      "8-3_thin.png\r\n",
      "8-4_medium.png\r\n",
      "8-8_thin.png\r\n",
      "9+9_medium.png\r\n",
      "9-1_medium.png\r\n",
      "9-3_thin.png\r\n",
      "Bounding Boxes.ipynb\r\n",
      "CNN.py\r\n",
      "Equation_pre-processing _ add on.ipynb\r\n",
      "Equation_pre-processing.ipynb\r\n",
      "Final Proj.ipynb\r\n",
      "Model_3conv.h5\r\n",
      "README.md\r\n",
      "Screen Shot 2020-01-10 at 4.36.45 PM.png\r\n",
      "Screen Shot 2020-01-10 at 4.36.48 PM.png\r\n",
      "Screen Shot 2020-01-10 at 4.36.51 PM.png\r\n",
      "Screen Shot 2020-01-10 at 4.38.35 PM.png\r\n",
      "Screen Shot 2020-01-10 at 4.38.46 PM.png\r\n",
      "Screen Shot 2020-01-10 at 4.39.29 PM.png\r\n",
      "Screen Shot 2020-01-10 at 4.39.32 PM.png\r\n",
      "predictNumber.py\r\n",
      "text.txt\r\n"
     ]
    }
   ],
   "source": [
    "ls"
   ]
  },
  {
   "cell_type": "code",
   "execution_count": null,
   "metadata": {},
   "outputs": [],
   "source": []
  }
 ],
 "metadata": {
  "kernelspec": {
   "display_name": "Python 3",
   "language": "python",
   "name": "python3"
  },
  "language_info": {
   "codemirror_mode": {
    "name": "ipython",
    "version": 3
   },
   "file_extension": ".py",
   "mimetype": "text/x-python",
   "name": "python",
   "nbconvert_exporter": "python",
   "pygments_lexer": "ipython3",
   "version": "3.7.5"
  }
 },
 "nbformat": 4,
 "nbformat_minor": 2
}
