{
 "cells": [
  {
   "cell_type": "code",
   "execution_count": 1,
   "metadata": {},
   "outputs": [],
   "source": [
    "import tensorflow as tf\n",
    "(x_train, y_train), (x_test, y_test) = tf.keras.datasets.mnist.load_data()"
   ]
  },
  {
   "cell_type": "code",
   "execution_count": 2,
   "metadata": {},
   "outputs": [
    {
     "name": "stdout",
     "output_type": "stream",
     "text": [
      "8\n"
     ]
    },
    {
     "data": {
      "text/plain": [
       "<matplotlib.image.AxesImage at 0x1d6708f3e48>"
      ]
     },
     "execution_count": 2,
     "metadata": {},
     "output_type": "execute_result"
    },
    {
     "data": {
      "image/png": "[encoded data removed]",
      "text/plain": [
       "<Figure size 432x288 with 1 Axes>"
      ]
     },
     "metadata": {
      "needs_background": "light"
     },
     "output_type": "display_data"
    }
   ],
   "source": [
    "import matplotlib.pyplot as plt\n",
    "%matplotlib inline\n",
    "image_index = 7777 # You may select anything up to 60,000\n",
    "print(y_train[image_index]) # The label is 8\n",
    "plt.imshow(x_train[image_index], cmap='Greys')"
   ]
  },
  {
   "cell_type": "code",
   "execution_count": 3,
   "metadata": {},
   "outputs": [
    {
     "name": "stdout",
     "output_type": "stream",
     "text": [
      "x_train shape: (60000, 28, 28, 1)\n",
      "Number of images in x_train 60000\n",
      "Number of images in x_test 10000\n"
     ]
    }
   ],
   "source": [
    "# Reshaping the array to 4-dims so that it can work with the Keras API\n",
    "x_train = x_train.reshape(x_train.shape[0], 28, 28, 1)\n",
    "x_test = x_test.reshape(x_test.shape[0], 28, 28, 1)\n",
    "input_shape = (28, 28, 1)\n",
    "# Making sure that the values are float so that we can get decimal points after division\n",
    "x_train = x_train.astype('float32')\n",
    "x_test = x_test.astype('float32')\n",
    "# Normalizing the RGB codes by dividing it to the max RGB value.\n",
    "x_train /= 255\n",
    "x_test /= 255\n",
    "print('x_train shape:', x_train.shape)\n",
    "print('Number of images in x_train', x_train.shape[0])\n",
    "print('Number of images in x_test', x_test.shape[0])"
   ]
  },
  {
   "cell_type": "code",
   "execution_count": 4,
   "metadata": {},
   "outputs": [
    {
     "name": "stderr",
     "output_type": "stream",
     "text": [
      "Using TensorFlow backend.\n"
     ]
    }
   ],
   "source": [
    "# Importing the required Keras modules containing model and layers\n",
    "from keras.models import Sequential\n",
    "from keras.layers import Dense, Conv2D, Dropout, Flatten, MaxPooling2D\n",
    "# Creating a Sequential Model and adding the layers\n",
    "model = Sequential()\n",
    "model.add(Conv2D(28, kernel_size=(3,3), input_shape=input_shape))\n",
    "model.add(MaxPooling2D(pool_size=(2, 2)))\n",
    "model.add(Flatten()) # Flattening the 2D arrays for fully connected layers\n",
    "model.add(Dense(128, activation=tf.nn.relu))\n",
    "model.add(Dropout(0.2))\n",
    "model.add(Dense(10,activation=tf.nn.softmax))"
   ]
  },
  {
   "cell_type": "code",
   "execution_count": 5,
   "metadata": {},
   "outputs": [
    {
     "name": "stdout",
     "output_type": "stream",
     "text": [
      "Epoch 1/10\n",
      "60000/60000 [==============================] - 40s 671us/step - loss: 0.2012 - accuracy: 0.9401\n",
      "Epoch 2/10\n",
      "60000/60000 [==============================] - 46s 762us/step - loss: 0.0821 - accuracy: 0.9742\n",
      "Epoch 3/10\n",
      "60000/60000 [==============================] - 38s 636us/step - loss: 0.0587 - accuracy: 0.9814s - loss: 0\n",
      "Epoch 4/10\n",
      "60000/60000 [==============================] - 43s 722us/step - loss: 0.0435 - accuracy: 0.9856\n",
      "Epoch 5/10\n",
      "60000/60000 [==============================] - 45s 743us/step - loss: 0.0368 - accuracy: 0.9874\n",
      "Epoch 6/10\n",
      "60000/60000 [==============================] - 46s 770us/step - loss: 0.0286 - accuracy: 0.9909\n",
      "Epoch 7/10\n",
      "60000/60000 [==============================] - 45s 753us/step - loss: 0.0245 - accuracy: 0.9918\n",
      "Epoch 8/10\n",
      "60000/60000 [==============================] - 46s 764us/step - loss: 0.0227 - accuracy: 0.9924\n",
      "Epoch 9/10\n",
      "60000/60000 [==============================] - 42s 694us/step - loss: 0.0190 - accuracy: 0.9934\n",
      "Epoch 10/10\n",
      "60000/60000 [==============================] - 42s 693us/step - loss: 0.0165 - accuracy: 0.9940s - loss: 0.0162 - accuracy - ETA: 0s - loss: 0.016\n"
     ]
    },
    {
     "data": {
      "text/plain": [
       "<keras.callbacks.callbacks.History at 0x1d66ef6c208>"
      ]
     },
     "execution_count": 5,
     "metadata": {},
     "output_type": "execute_result"
    }
   ],
   "source": [
    "model.compile(optimizer='adam', \n",
    "              loss='sparse_categorical_crossentropy', \n",
    "              metrics=['accuracy'])\n",
    "model.fit(x=x_train,y=y_train, epochs=10)"
   ]
  },
  {
   "cell_type": "code",
   "execution_count": 6,
   "metadata": {},
   "outputs": [
    {
     "name": "stdout",
     "output_type": "stream",
     "text": [
      "10000/10000 [==============================] - 2s 161us/step\n"
     ]
    },
    {
     "data": {
      "text/plain": [
       "[0.0763482542308972, 0.9832000136375427]"
      ]
     },
     "execution_count": 6,
     "metadata": {},
     "output_type": "execute_result"
    }
   ],
   "source": [
    "model.evaluate(x_test, y_test)"
   ]
  },
  {
   "cell_type": "code",
   "execution_count": 7,
   "metadata": {},
   "outputs": [
    {
     "name": "stdout",
     "output_type": "stream",
     "text": [
      "9\n"
     ]
    },
    {
     "data": {
      "image/png": "[encoded data removed]",
      "text/plain": [
       "<Figure size 432x288 with 1 Axes>"
      ]
     },
     "metadata": {
      "needs_background": "light"
     },
     "output_type": "display_data"
    }
   ],
   "source": [
    "import matplotlib.pyplot as plt\n",
    "%matplotlib inline\n",
    "image_index = 4444\n",
    "plt.imshow(x_test[image_index].reshape(28, 28),cmap='Greys')\n",
    "pred = model.predict(x_test[image_index].reshape(1, 28, 28, 1))\n",
    "print(pred.argmax())"
   ]
  },
  {
   "cell_type": "markdown",
   "metadata": {},
   "source": [
    "# Our Stuff"
   ]
  },
  {
   "cell_type": "code",
   "execution_count": 155,
   "metadata": {},
   "outputs": [],
   "source": [
    "import cv2\n",
    "import matplotlib.pyplot as plt\n",
    "import numpy as np\n",
    "%matplotlib inline"
   ]
  },
  {
   "cell_type": "code",
   "execution_count": 128,
   "metadata": {},
   "outputs": [],
   "source": [
    "one = cv2.imread(r'C:\\Users\\MattHetrick\\Documents\\Academics\\Fall 2019\\Cos 429\\Final-Project\\One.jpg')\n",
    "reg1 = cv2.imread(r'C:\\Users\\MattHetrick\\Documents\\Academics\\Fall 2019\\Cos 429\\Final-Project\\New1.jpg')\n",
    "flat2 = cv2.imread(r'C:\\Users\\MattHetrick\\Documents\\Academics\\Fall 2019\\Cos 429\\Final-Project\\Flat2.jpg')\n",
    "two = cv2.imread(r'C:\\Users\\MattHetrick\\Documents\\Academics\\Fall 2019\\Cos 429\\Final-Project\\2.jpg')\n",
    "seven = cv2.imread(r'C:\\Users\\MattHetrick\\Documents\\Academics\\Fall 2019\\Cos 429\\Final-Project\\7.jpg')\n",
    "eight = cv2.imread(r'C:\\Users\\MattHetrick\\Documents\\Academics\\Fall 2019\\Cos 429\\Final-Project\\8.jpg')"
   ]
  },
  {
   "cell_type": "code",
   "execution_count": 17,
   "metadata": {},
   "outputs": [],
   "source": [
    "cv2.imshow('one',one)\n",
    "cv2.waitKey(0)\n",
    "cv2.destroyAllWindows()"
   ]
  },
  {
   "cell_type": "code",
   "execution_count": 172,
   "metadata": {},
   "outputs": [],
   "source": [
    "sev = cv2.cvtColor(seven, cv2.COLOR_BGR2GRAY)"
   ]
  },
  {
   "cell_type": "code",
   "execution_count": 173,
   "metadata": {},
   "outputs": [
    {
     "data": {
      "image/png": "[encoded data removed]",
      "text/plain": [
       "<Figure size 432x288 with 1 Axes>"
      ]
     },
     "metadata": {
      "needs_background": "light"
     },
     "output_type": "display_data"
    }
   ],
   "source": [
    "for i in range(sev.shape[0]):\n",
    "    for j in range(sev.shape[1]):\n",
    "        if (sev[i][j] <= 75): sev[i][j] = 0\n",
    "        else: sev[i][j] = 255\n",
    "sev= np.invert(sev)\n",
    "s7 = cv2.resize(sev, (28,28))\n",
    "plt.imshow(s7, cmap = \"Greys\")\n",
    "s7 = s7.reshape(1, 28, 28, 1)\n",
    "\n",
    "s7 = s7.astype('float32')\n",
    "# Normalizing the RGB codes by dividing it to the max RGB value.\n",
    "s7 /= 255"
   ]
  },
  {
   "cell_type": "code",
   "execution_count": 167,
   "metadata": {
    "scrolled": true
   },
   "outputs": [
    {
     "name": "stdout",
     "output_type": "stream",
     "text": [
      "6\n"
     ]
    }
   ],
   "source": [
    "pred1 = model.predict(s7)\n",
    "print(pred1.argmax())"
   ]
  },
  {
   "cell_type": "code",
   "execution_count": 127,
   "metadata": {},
   "outputs": [
    {
     "data": {
      "text/plain": [
       "array([[[203, 214, 212],\n",
       "        [205, 213, 213],\n",
       "        [204, 212, 212],\n",
       "        ...,\n",
       "        [200, 205, 208],\n",
       "        [200, 205, 208],\n",
       "        [200, 205, 208]],\n",
       "\n",
       "       [[203, 214, 212],\n",
       "        [205, 213, 213],\n",
       "        [204, 212, 212],\n",
       "        ...,\n",
       "        [200, 205, 208],\n",
       "        [200, 205, 208],\n",
       "        [200, 205, 208]],\n",
       "\n",
       "       [[202, 213, 211],\n",
       "        [204, 212, 212],\n",
       "        [204, 212, 212],\n",
       "        ...,\n",
       "        [200, 205, 208],\n",
       "        [200, 205, 208],\n",
       "        [200, 205, 208]],\n",
       "\n",
       "       ...,\n",
       "\n",
       "       [[204, 206, 207],\n",
       "        [204, 206, 207],\n",
       "        [204, 206, 207],\n",
       "        ...,\n",
       "        [200, 206, 205],\n",
       "        [200, 206, 205],\n",
       "        [200, 206, 205]],\n",
       "\n",
       "       [[204, 206, 207],\n",
       "        [204, 206, 207],\n",
       "        [204, 206, 207],\n",
       "        ...,\n",
       "        [198, 207, 204],\n",
       "        [198, 207, 204],\n",
       "        [198, 207, 204]],\n",
       "\n",
       "       [[204, 206, 207],\n",
       "        [204, 206, 207],\n",
       "        [204, 206, 207],\n",
       "        ...,\n",
       "        [198, 207, 204],\n",
       "        [198, 207, 204],\n",
       "        [198, 207, 204]]], dtype=uint8)"
      ]
     },
     "execution_count": 127,
     "metadata": {},
     "output_type": "execute_result"
    }
   ],
   "source": [
    "seven"
   ]
  },
  {
   "cell_type": "code",
   "execution_count": null,
   "metadata": {},
   "outputs": [],
   "source": []
  }
 ],
 "metadata": {
  "kernelspec": {
   "display_name": "Python 3",
   "language": "python",
   "name": "python3"
  },
  "language_info": {
   "codemirror_mode": {
    "name": "ipython",
    "version": 3
   },
   "file_extension": ".py",
   "mimetype": "text/x-python",
   "name": "python",
   "nbconvert_exporter": "python",
   "pygments_lexer": "ipython3",
   "version": "3.7.4"
  }
 },
 "nbformat": 4,
 "nbformat_minor": 2
}
